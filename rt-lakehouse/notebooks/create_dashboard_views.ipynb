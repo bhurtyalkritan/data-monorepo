{
 "cells": [
  {
   "cell_type": "markdown",
   "id": "37e8120b",
   "metadata": {},
   "source": [
    "# Create and Validate KPI Dashboard Views (Databricks SQL)\n",
    "This notebook installs dependencies, connects to Databricks SQL using environment variables, executes the SQL in `sql/dashboard_views.sql`, validates the created views, queries them, plots KPIs, and saves CSV outputs."
   ]
  },
  {
   "cell_type": "markdown",
   "id": "4e384c99",
   "metadata": {},
   "source": [
    "## 1) Set Up Python Dependencies\n",
    "Install and import required packages. If packages are already installed, pip will skip or reuse cached wheels."
   ]
  },
  {
   "cell_type": "code",
   "execution_count": null,
   "id": "746302b4",
   "metadata": {},
   "outputs": [
    {
     "ename": "ModuleNotFoundError",
     "evalue": "No module named 'pandas'",
     "output_type": "error",
     "traceback": [
      "\u001b[0;31m---------------------------------------------------------------------------\u001b[0m",
      "\u001b[0;31mModuleNotFoundError\u001b[0m                       Traceback (most recent call last)",
      "Cell \u001b[0;32mIn[1], line 7\u001b[0m\n\u001b[1;32m      5\u001b[0m \u001b[38;5;28;01mimport\u001b[39;00m\u001b[38;5;250m \u001b[39m\u001b[38;5;21;01mre\u001b[39;00m\n\u001b[1;32m      6\u001b[0m \u001b[38;5;28;01mimport\u001b[39;00m\u001b[38;5;250m \u001b[39m\u001b[38;5;21;01mpathlib\u001b[39;00m\n\u001b[0;32m----> 7\u001b[0m \u001b[38;5;28;01mimport\u001b[39;00m\u001b[38;5;250m \u001b[39m\u001b[38;5;21;01mpandas\u001b[39;00m\u001b[38;5;250m \u001b[39m\u001b[38;5;28;01mas\u001b[39;00m\u001b[38;5;250m \u001b[39m\u001b[38;5;21;01mpd\u001b[39;00m\n\u001b[1;32m      8\u001b[0m \u001b[38;5;28;01mimport\u001b[39;00m\u001b[38;5;250m \u001b[39m\u001b[38;5;21;01mmatplotlib\u001b[39;00m\u001b[38;5;21;01m.\u001b[39;00m\u001b[38;5;21;01mpyplot\u001b[39;00m\u001b[38;5;250m \u001b[39m\u001b[38;5;28;01mas\u001b[39;00m\u001b[38;5;250m \u001b[39m\u001b[38;5;21;01mplt\u001b[39;00m\n\u001b[1;32m      9\u001b[0m \u001b[38;5;28;01mfrom\u001b[39;00m\u001b[38;5;250m \u001b[39m\u001b[38;5;21;01mdatabricks\u001b[39;00m\u001b[38;5;250m \u001b[39m\u001b[38;5;28;01mimport\u001b[39;00m sql \u001b[38;5;28;01mas\u001b[39;00m dbsql\n",
      "\u001b[0;31mModuleNotFoundError\u001b[0m: No module named 'pandas'"
     ]
    }
   ],
   "source": [
    "# Auto-install dependencies if missing and import\n",
    "import os, re, sys, subprocess, pathlib\n",
    "\n",
    "def ensure_packages(pkgs):\n",
    "    try:\n",
    "        subprocess.check_call([sys.executable, \"-m\", \"pip\", \"install\", \"-q\", *pkgs])\n",
    "    except Exception as e:\n",
    "        print(\"Package install failed:\", e)\n",
    "        raise\n",
    "\n",
    "# Ensure core packages\n",
    "try:\n",
    "    from databricks import sql as dbsql  # noqa: F401\n",
    "    import pandas as pd  # noqa: F401\n",
    "    import matplotlib.pyplot as plt  # noqa: F401\n",
    "except Exception:\n",
    "    ensure_packages([\"databricks-sql-connector\", \"pandas\", \"matplotlib\", \"python-dotenv\"])\n",
    "    from databricks import sql as dbsql\n",
    "    import pandas as pd\n",
    "    import matplotlib.pyplot as plt\n",
    "\n",
    "from datetime import datetime, timedelta\n",
    "\n",
    "# Display versions\n",
    "print(\"pandas:\", pd.__version__)\n",
    "try:\n",
    "    import databricks.sql as _tmp\n",
    "    print(\"databricks-sql-connector:\", getattr(_tmp, \"__version__\", \"installed\"))\n",
    "except Exception as e:\n",
    "    print(\"databricks-sql-connector not imported:\", e)"
   ]
  },
  {
   "cell_type": "markdown",
   "id": "fcc197e1",
   "metadata": {},
   "source": [
    "## 2) Configure Databricks SQL Connection (env vars)\n",
    "We read credentials from environment variables (or a local .env)."
   ]
  },
  {
   "cell_type": "code",
   "execution_count": null,
   "id": "bb94d8c0",
   "metadata": {},
   "outputs": [],
   "source": [
    "# Optional: load from a .env file in project root\n",
    "try:\n",
    "    from dotenv import load_dotenv\n",
    "    load_dotenv(dotenv_path=os.path.expanduser(\"/Users/kritan/data-monorepo/.env\"))\n",
    "except Exception as e:\n",
    "    print(\".env load skipped:\", e)\n",
    "\n",
    "DATABRICKS_HOST = os.getenv(\"DATABRICKS_HOST\")\n",
    "DATABRICKS_HTTP_PATH = os.getenv(\"DATABRICKS_HTTP_PATH\")\n",
    "DATABRICKS_TOKEN = os.getenv(\"DATABRICKS_TOKEN\")\n",
    "\n",
    "if not DATABRICKS_HOST or not DATABRICKS_HTTP_PATH or not DATABRICKS_TOKEN:\n",
    "    raise RuntimeError(\n",
    "        \"Missing required env vars. Set DATABRICKS_HOST, DATABRICKS_HTTP_PATH, DATABRICKS_TOKEN.\\n\"\n",
    "        \"Tip: create /Users/kritan/data-monorepo/.env with:\\n\"\n",
    "        \"DATABRICKS_HOST=adb-xxxx.azuredatabricks.net\\n\"\n",
    "        \"DATABRICKS_HTTP_PATH=/sql/1.0/warehouses/xxxxx\\n\"\n",
    "        \"DATABRICKS_TOKEN=xxxxxxxx\\n\"\n",
    "    )\n",
    "\n",
    "print(\"Using host:\", DATABRICKS_HOST)\n",
    "print(\"Using http_path:\", DATABRICKS_HTTP_PATH[:16] + \"...\")"
   ]
  },
  {
   "cell_type": "markdown",
   "id": "de0c249b",
   "metadata": {},
   "source": [
    "## 3) Open Connection\n",
    "Create a Databricks SQL connection and a cursor."
   ]
  },
  {
   "cell_type": "code",
   "execution_count": null,
   "id": "7c7ee2b1",
   "metadata": {},
   "outputs": [],
   "source": [
    "conn = dbsql.connect(\n",
    "    server_hostname=DATABRICKS_HOST,\n",
    "    http_path=DATABRICKS_HTTP_PATH,\n",
    "    access_token=DATABRICKS_TOKEN,\n",
    ")\n",
    "cur = conn.cursor()\n",
    "print(\"Connected.\")"
   ]
  },
  {
   "cell_type": "markdown",
   "id": "d248dbda",
   "metadata": {},
   "source": [
    "## 4) Execute SQL to Create Views from File\n",
    "Read the repository SQL file and execute statements idempotently."
   ]
  },
  {
   "cell_type": "code",
   "execution_count": null,
   "id": "e72260b0",
   "metadata": {},
   "outputs": [],
   "source": [
    "sql_path = \"/Users/kritan/data-monorepo/real-time-lakehouse/sql/dashboard_views.sql\"\n",
    "with open(sql_path, \"r\", encoding=\"utf-8\") as f:\n",
    "    text = f.read()\n",
    "\n",
    "# Remove line comments and split by semicolons at end of statements\n",
    "lines = []\n",
    "for ln in text.splitlines():\n",
    "    if ln.strip().startswith(\"--\"):\n",
    "        continue\n",
    "    lines.append(ln)\n",
    "cleaned = \"\\n\".join(lines)\n",
    "\n",
    "stmts = [s.strip() for s in re.split(r\";\\s*(?:\\n|$)\", cleaned) if s.strip()]\n",
    "\n",
    "executed, errors = 0, []\n",
    "for s in stmts:\n",
    "    try:\n",
    "        print(\"Executing:\\n\", s[:120].replace(\"\\n\",\" \"), \"...\")\n",
    "        cur.execute(s)\n",
    "        executed += 1\n",
    "    except Exception as e:\n",
    "        print(\"Error executing statement:\", e)\n",
    "        errors.append((s, str(e)))\n",
    "\n",
    "print(f\"Executed {executed} statements. Errors: {len(errors)}\")\n",
    "if errors:\n",
    "    for i, (s, msg) in enumerate(errors[:5], 1):\n",
    "        print(f\"[{i}] {msg}\\nSQL: {s[:200]}...\")\n",
    "    raise RuntimeError(\"One or more SQL statements failed. See logs above.\")"
   ]
  },
  {
   "cell_type": "markdown",
   "id": "c11b7f19",
   "metadata": {},
   "source": [
    "## 5) Validate Created Views\n",
    "Confirm the expected views exist."
   ]
  },
  {
   "cell_type": "code",
   "execution_count": null,
   "id": "44d150fa",
   "metadata": {},
   "outputs": [],
   "source": [
    "views_to_check = [\n",
    "    (\"demo\", \"ecommerce_rt\", \"v_kpi_timeseries\"),\n",
    "    (\"demo\", \"ecommerce_rt\", \"v_kpi_last_15m\"),\n",
    "]\n",
    "\n",
    "rows = []\n",
    "for cat, sch, name in views_to_check:\n",
    "    cur.execute(f\"USE CATALOG {cat}\")\n",
    "    cur.execute(f\"USE SCHEMA {sch}\")\n",
    "    cur.execute(\"\"\"\n",
    "        SELECT table_catalog, table_schema, table_name\n",
    "        FROM system.information_schema.views\n",
    "        WHERE table_name = ?\n",
    "    \"\"\", (name,))\n",
    "    rows.extend(cur.fetchall())\n",
    "\n",
    "print(\"Found views:\")\n",
    "for r in rows:\n",
    "    print(r)\n",
    "\n",
    "if len(rows) != len(views_to_check):\n",
    "    raise RuntimeError(\n",
    "        \"Expected views not found. Verify your SQL warehouse has access to catalog/schema and that the gold table exists.\"\n",
    "    )"
   ]
  },
  {
   "cell_type": "markdown",
   "id": "078d9a93",
   "metadata": {},
   "source": [
    "## 6) Query v_kpi_timeseries\n",
    "Load recent KPI time series into a pandas DataFrame."
   ]
  },
  {
   "cell_type": "code",
   "execution_count": null,
   "id": "f592772b",
   "metadata": {},
   "outputs": [],
   "source": [
    "limit_n = 500\n",
    "cur.execute(\"USE CATALOG demo\")\n",
    "cur.execute(\"USE SCHEMA ecommerce_rt\")\n",
    "cur.execute(f\"\"\"\n",
    "    SELECT window_start, window_end, orders, gmv, active_users, conversion_rate\n",
    "    FROM v_kpi_timeseries\n",
    "    ORDER BY window_start DESC\n",
    "    LIMIT {limit_n}\n",
    "\"\"\")\n",
    "cols = [d[0] for d in cur.description]\n",
    "rows = cur.fetchall()\n",
    "\n",
    "ts_df = pd.DataFrame(rows, columns=cols)\n",
    "ts_df = ts_df.sort_values(\"window_start\").reset_index(drop=True)\n",
    "ts_df.head()"
   ]
  },
  {
   "cell_type": "markdown",
   "id": "94b0dcf1",
   "metadata": {},
   "source": [
    "## 7) Query v_kpi_last_15m with Parameterized Window\n",
    "Customize the aggregation window in minutes."
   ]
  },
  {
   "cell_type": "code",
   "execution_count": null,
   "id": "61b16b93",
   "metadata": {},
   "outputs": [],
   "source": [
    "minutes = int(15)\n",
    "cur.execute(\"USE CATALOG demo\")\n",
    "cur.execute(\"USE SCHEMA ecommerce_rt\")\n",
    "cur.execute(f\"\"\"\n",
    "    SELECT\n",
    "      SUM(orders) AS orders_agg,\n",
    "      SUM(gmv) AS gmv_agg,\n",
    "      AVG(conversion_rate) AS conversion_agg,\n",
    "      MAX(window_start) AS last_window\n",
    "    FROM gold_kpis\n",
    "    WHERE window_start >= now() - INTERVAL {minutes} minutes\n",
    "\"\"\")\n",
    "cols = [d[0] for d in cur.description]\n",
    "rows = cur.fetchall()\n",
    "\n",
    "last_df = pd.DataFrame(rows, columns=cols)\n",
    "last_df"
   ]
  },
  {
   "cell_type": "markdown",
   "id": "12717bc2",
   "metadata": {},
   "source": [
    "## 8) Plot KPIs Over Time\n",
    "Plot orders and GMV; GMV on secondary axis."
   ]
  },
  {
   "cell_type": "code",
   "execution_count": null,
   "id": "b21831bb",
   "metadata": {},
   "outputs": [],
   "source": [
    "if not ts_df.empty:\n",
    "    fig, ax1 = plt.subplots(figsize=(10, 5))\n",
    "    ax2 = ax1.twinx()\n",
    "\n",
    "    ax1.plot(ts_df[\"window_start\"], ts_df[\"orders\"], color=\"tab:blue\", label=\"orders\")\n",
    "    ax2.plot(ts_df[\"window_start\"], ts_df[\"gmv\"], color=\"tab:orange\", label=\"gmv\")\n",
    "\n",
    "    ax1.set_xlabel(\"window_start\")\n",
    "    ax1.set_ylabel(\"orders\", color=\"tab:blue\")\n",
    "    ax2.set_ylabel(\"gmv\", color=\"tab:orange\")\n",
    "    ax1.grid(True, alpha=0.3)\n",
    "    fig.tight_layout()\n",
    "    plt.show()\n",
    "else:\n",
    "    print(\"No timeseries data to plot.\")"
   ]
  },
  {
   "cell_type": "markdown",
   "id": "3b46c0d8",
   "metadata": {},
   "source": [
    "## 9) Save Query Results to CSV\n",
    "Write time series and last-window KPIs to ./out."
   ]
  },
  {
   "cell_type": "code",
   "execution_count": null,
   "id": "02dc1209",
   "metadata": {},
   "outputs": [],
   "source": [
    "out_dir = pathlib.Path(\"/Users/kritan/data-monorepo/real-time-lakehouse/out\")\n",
    "out_dir.mkdir(parents=True, exist_ok=True)\n",
    "\n",
    "if 'ts_df' in globals() and not ts_df.empty:\n",
    "    ts_df.to_csv(out_dir/\"kpi_timeseries.csv\", index=False)\n",
    "    print(\"Saved:\", out_dir/\"kpi_timeseries.csv\")\n",
    "else:\n",
    "    print(\"Timeseries DataFrame empty; skipped save.\")\n",
    "\n",
    "if 'last_df' in globals() and not last_df.empty:\n",
    "    last_df.to_csv(out_dir/\"kpi_last_window.csv\", index=False)\n",
    "    print(\"Saved:\", out_dir/\"kpi_last_window.csv\")\n",
    "else:\n",
    "    print(\"Last-window DataFrame empty; skipped save.\")"
   ]
  },
  {
   "cell_type": "markdown",
   "id": "5357061a",
   "metadata": {},
   "source": [
    "## 10) Basic Assertions for Data Quality\n",
    "Simple checks to fail fast if data is unexpected."
   ]
  },
  {
   "cell_type": "code",
   "execution_count": null,
   "id": "a99f14ad",
   "metadata": {},
   "outputs": [],
   "source": [
    "try:\n",
    "    if 'ts_df' in globals() and not ts_df.empty:\n",
    "        assert (ts_df['orders'] >= 0).all(), \"orders must be non-negative\"\n",
    "        assert (ts_df['gmv'] >= 0).all(), \"gmv must be non-negative\"\n",
    "        assert ((ts_df['conversion_rate'] >= 0) & (ts_df['conversion_rate'] <= 1)).all(), \"conversion_rate must be in [0,1]\"\n",
    "    else:\n",
    "        print(\"Warning: ts_df is empty; skipping KPI assertions.\")\n",
    "\n",
    "    if 'last_df' in globals() and not last_df.empty:\n",
    "        assert last_df.iloc[0]['orders_agg'] >= 0, \"orders_agg must be non-negative\"\n",
    "        assert last_df.iloc[0]['gmv_agg'] >= 0, \"gmv_agg must be non-negative\"\n",
    "        assert 0 <= last_df.iloc[0]['conversion_agg'] <= 1, \"conversion_agg must be in [0,1]\"\n",
    "    else:\n",
    "        print(\"Warning: last_df is empty; skipping aggregate assertions.\")\n",
    "finally:\n",
    "    try:\n",
    "        cur.close()\n",
    "    except Exception:\n",
    "        pass\n",
    "    try:\n",
    "        conn.close()\n",
    "    except Exception:\n",
    "        pass\n",
    "print(\"Done.\")"
   ]
  }
 ],
 "metadata": {
  "kernelspec": {
   "display_name": "Python 3",
   "language": "python",
   "name": "python3"
  },
  "language_info": {
   "codemirror_mode": {
    "name": "ipython",
    "version": 3
   },
   "file_extension": ".py",
   "mimetype": "text/x-python",
   "name": "python",
   "nbconvert_exporter": "python",
   "pygments_lexer": "ipython3",
   "version": "3.9.6"
  }
 },
 "nbformat": 4,
 "nbformat_minor": 5
}
